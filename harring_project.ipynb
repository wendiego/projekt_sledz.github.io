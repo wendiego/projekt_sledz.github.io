{
 "cells": [
  {
   "cell_type": "markdown",
   "metadata": {},
   "source": [
    "# Harring project "
   ]
  },
  {
   "cell_type": "markdown",
   "metadata": {},
   "source": [
    "#### Instalowanie i ładowanie bibliotek"
   ]
  },
  {
   "cell_type": "code",
   "execution_count": 243,
   "metadata": {},
   "outputs": [
    {
     "name": "stderr",
     "output_type": "stream",
     "text": [
      "Installing package into 'C:/Users/amiel/Documents/R/win-library/3.4'\n",
      "(as 'lib' is unspecified)\n"
     ]
    },
    {
     "name": "stdout",
     "output_type": "stream",
     "text": [
      "package 'gdata' successfully unpacked and MD5 sums checked\n",
      "\n",
      "The downloaded binary packages are in\n",
      "\tC:\\Users\\amiel\\AppData\\Local\\Temp\\RtmpwB3mGt\\downloaded_packages\n"
     ]
    },
    {
     "name": "stderr",
     "output_type": "stream",
     "text": [
      "Installing package into 'C:/Users/amiel/Documents/R/win-library/3.4'\n",
      "(as 'lib' is unspecified)\n",
      "Warning message:\n",
      "\"package 'dplyr' is in use and will not be installed\"Installing package into 'C:/Users/amiel/Documents/R/win-library/3.4'\n",
      "(as 'lib' is unspecified)\n",
      "Warning message:\n",
      "\"package 'ggplot2' is in use and will not be installed\"Installing package into 'C:/Users/amiel/Documents/R/win-library/3.4'\n",
      "(as 'lib' is unspecified)\n",
      "Warning message:\n",
      "\"package 'gridExtra' is in use and will not be installed\"Installing package into 'C:/Users/amiel/Documents/R/win-library/3.4'\n",
      "(as 'lib' is unspecified)\n",
      "Warning message:\n",
      "\"package 'imputeTS' is in use and will not be installed\"Installing package into 'C:/Users/amiel/Documents/R/win-library/3.4'\n",
      "(as 'lib' is unspecified)\n"
     ]
    },
    {
     "name": "stdout",
     "output_type": "stream",
     "text": [
      "package 'mice' successfully unpacked and MD5 sums checked\n",
      "\n",
      "The downloaded binary packages are in\n",
      "\tC:\\Users\\amiel\\AppData\\Local\\Temp\\RtmpwB3mGt\\downloaded_packages\n"
     ]
    }
   ],
   "source": [
    "install.packages(\"gdata\")\n",
    "install.packages(\"dplyr\")\n",
    "install.packages(\"ggplot2\")\n",
    "install.packages(\"gridExtra\") \n",
    "install.packages(\"imputeTS\")\n",
    "install.packages(\"mice\")\n",
    "library(mice)\n",
    "library(imputeTS)\n",
    "library(dplyr)\n",
    "library(ggplot2)\n",
    "library(gridExtra)"
   ]
  },
  {
   "cell_type": "markdown",
   "metadata": {},
   "source": [
    "##### Atrybuty\n",
    "\n",
    "1. length: długość złowionego śledzia [cm]\n",
    "2. cfin1: dostępność planktonu [zagęszczenie Calanus finmarchicus gat. 1]\n",
    "3. cfin2: dostępność planktonu [zagęszczenie Calanus finmarchicus gat. 2]\n",
    "4. chel1: dostępność planktonu [zagęszczenie Calanus helgolandicus gat. 1]\n",
    "5. chel2: dostępność planktonu [zagęszczenie Calanus helgolandicus gat. 2]\n",
    "6. lcop1: dostępność planktonu [zagęszczenie Widłonogów gat. 1]\n",
    "7. lcop2: dostępność planktonu [zagęszczenie Widłonogów gat. 2]\n",
    "8. fbar: natężenie połowów w regionie [ułamek pozostawionego narybku]\n",
    "9. recr: roczny narybek [liczba śledzi]\n",
    "10. cumf: łączne roczne natężenie połowów w regionie [ułamek pozostawionego narybku]\n",
    "11. totaln: łączna liczba ryb złowionych w ramach połowu [liczba śledzi]\n",
    "12. sst: temperatura przy powierzchni wody [°C]\n",
    "13. sal: poziom zasolenia wody [Knudsen ppt]\n",
    "14. xmonth: miesiąc połowu [numer miesiąca]\n",
    "15. nao: oscylacja północnoatlantycka [mb] "
   ]
  },
  {
   "cell_type": "markdown",
   "metadata": {},
   "source": [
    "#### Importowanie danych i podgląd"
   ]
  },
  {
   "cell_type": "code",
   "execution_count": 244,
   "metadata": {},
   "outputs": [],
   "source": [
    "# przypisanie danych do zmiennej\n",
    "fish_data <- read.csv(url(\"http://www.cs.put.poznan.pl/dbrzezinski/teaching/sphd/sledzie.csv\"),\n",
    "header = TRUE, sep = \",\", na.strings = \"?\")\n",
    "fish_data <- fish_data %>% rename(lp = X)"
   ]
  },
  {
   "cell_type": "code",
   "execution_count": 245,
   "metadata": {},
   "outputs": [
    {
     "data": {
      "text/html": [
       "<table>\n",
       "<thead><tr><th scope=col>lp</th><th scope=col>length</th><th scope=col>cfin1</th><th scope=col>cfin2</th><th scope=col>chel1</th><th scope=col>chel2</th><th scope=col>lcop1</th><th scope=col>lcop2</th><th scope=col>fbar</th><th scope=col>recr</th><th scope=col>cumf</th><th scope=col>totaln</th><th scope=col>sst</th><th scope=col>sal</th><th scope=col>xmonth</th><th scope=col>nao</th></tr></thead>\n",
       "<tbody>\n",
       "\t<tr><td>0        </td><td>23.0     </td><td>0.02778  </td><td>0.27785  </td><td>2.46875  </td><td>      NA </td><td>2.54787  </td><td>26.35881 </td><td>0.356    </td><td>482831   </td><td>0.3059879</td><td>267380.8 </td><td>14.30693 </td><td>35.51234 </td><td>7        </td><td>2.8      </td></tr>\n",
       "\t<tr><td>1        </td><td>22.5     </td><td>0.02778  </td><td>0.27785  </td><td>2.46875  </td><td>21.43548 </td><td>2.54787  </td><td>26.35881 </td><td>0.356    </td><td>482831   </td><td>0.3059879</td><td>267380.8 </td><td>14.30693 </td><td>35.51234 </td><td>7        </td><td>2.8      </td></tr>\n",
       "\t<tr><td>2        </td><td>25.0     </td><td>0.02778  </td><td>0.27785  </td><td>2.46875  </td><td>21.43548 </td><td>2.54787  </td><td>26.35881 </td><td>0.356    </td><td>482831   </td><td>0.3059879</td><td>267380.8 </td><td>14.30693 </td><td>35.51234 </td><td>7        </td><td>2.8      </td></tr>\n",
       "\t<tr><td>3        </td><td>25.5     </td><td>0.02778  </td><td>0.27785  </td><td>2.46875  </td><td>21.43548 </td><td>2.54787  </td><td>26.35881 </td><td>0.356    </td><td>482831   </td><td>0.3059879</td><td>267380.8 </td><td>14.30693 </td><td>35.51234 </td><td>7        </td><td>2.8      </td></tr>\n",
       "\t<tr><td>4        </td><td>24.0     </td><td>0.02778  </td><td>0.27785  </td><td>2.46875  </td><td>21.43548 </td><td>2.54787  </td><td>26.35881 </td><td>0.356    </td><td>482831   </td><td>0.3059879</td><td>267380.8 </td><td>14.30693 </td><td>35.51234 </td><td>7        </td><td>2.8      </td></tr>\n",
       "\t<tr><td>5        </td><td>22.0     </td><td>0.02778  </td><td>0.27785  </td><td>2.46875  </td><td>21.43548 </td><td>2.54787  </td><td>      NA </td><td>0.356    </td><td>482831   </td><td>0.3059879</td><td>267380.8 </td><td>14.30693 </td><td>35.51234 </td><td>7        </td><td>2.8      </td></tr>\n",
       "</tbody>\n",
       "</table>\n"
      ],
      "text/latex": [
       "\\begin{tabular}{r|llllllllllllllll}\n",
       " lp & length & cfin1 & cfin2 & chel1 & chel2 & lcop1 & lcop2 & fbar & recr & cumf & totaln & sst & sal & xmonth & nao\\\\\n",
       "\\hline\n",
       "\t 0         & 23.0      & 0.02778   & 0.27785   & 2.46875   &       NA  & 2.54787   & 26.35881  & 0.356     & 482831    & 0.3059879 & 267380.8  & 14.30693  & 35.51234  & 7         & 2.8      \\\\\n",
       "\t 1         & 22.5      & 0.02778   & 0.27785   & 2.46875   & 21.43548  & 2.54787   & 26.35881  & 0.356     & 482831    & 0.3059879 & 267380.8  & 14.30693  & 35.51234  & 7         & 2.8      \\\\\n",
       "\t 2         & 25.0      & 0.02778   & 0.27785   & 2.46875   & 21.43548  & 2.54787   & 26.35881  & 0.356     & 482831    & 0.3059879 & 267380.8  & 14.30693  & 35.51234  & 7         & 2.8      \\\\\n",
       "\t 3         & 25.5      & 0.02778   & 0.27785   & 2.46875   & 21.43548  & 2.54787   & 26.35881  & 0.356     & 482831    & 0.3059879 & 267380.8  & 14.30693  & 35.51234  & 7         & 2.8      \\\\\n",
       "\t 4         & 24.0      & 0.02778   & 0.27785   & 2.46875   & 21.43548  & 2.54787   & 26.35881  & 0.356     & 482831    & 0.3059879 & 267380.8  & 14.30693  & 35.51234  & 7         & 2.8      \\\\\n",
       "\t 5         & 22.0      & 0.02778   & 0.27785   & 2.46875   & 21.43548  & 2.54787   &       NA  & 0.356     & 482831    & 0.3059879 & 267380.8  & 14.30693  & 35.51234  & 7         & 2.8      \\\\\n",
       "\\end{tabular}\n"
      ],
      "text/markdown": [
       "\n",
       "lp | length | cfin1 | cfin2 | chel1 | chel2 | lcop1 | lcop2 | fbar | recr | cumf | totaln | sst | sal | xmonth | nao | \n",
       "|---|---|---|---|---|---|\n",
       "| 0         | 23.0      | 0.02778   | 0.27785   | 2.46875   |       NA  | 2.54787   | 26.35881  | 0.356     | 482831    | 0.3059879 | 267380.8  | 14.30693  | 35.51234  | 7         | 2.8       | \n",
       "| 1         | 22.5      | 0.02778   | 0.27785   | 2.46875   | 21.43548  | 2.54787   | 26.35881  | 0.356     | 482831    | 0.3059879 | 267380.8  | 14.30693  | 35.51234  | 7         | 2.8       | \n",
       "| 2         | 25.0      | 0.02778   | 0.27785   | 2.46875   | 21.43548  | 2.54787   | 26.35881  | 0.356     | 482831    | 0.3059879 | 267380.8  | 14.30693  | 35.51234  | 7         | 2.8       | \n",
       "| 3         | 25.5      | 0.02778   | 0.27785   | 2.46875   | 21.43548  | 2.54787   | 26.35881  | 0.356     | 482831    | 0.3059879 | 267380.8  | 14.30693  | 35.51234  | 7         | 2.8       | \n",
       "| 4         | 24.0      | 0.02778   | 0.27785   | 2.46875   | 21.43548  | 2.54787   | 26.35881  | 0.356     | 482831    | 0.3059879 | 267380.8  | 14.30693  | 35.51234  | 7         | 2.8       | \n",
       "| 5         | 22.0      | 0.02778   | 0.27785   | 2.46875   | 21.43548  | 2.54787   |       NA  | 0.356     | 482831    | 0.3059879 | 267380.8  | 14.30693  | 35.51234  | 7         | 2.8       | \n",
       "\n",
       "\n"
      ],
      "text/plain": [
       "  lp length cfin1   cfin2   chel1   chel2    lcop1   lcop2    fbar  recr  \n",
       "1 0  23.0   0.02778 0.27785 2.46875       NA 2.54787 26.35881 0.356 482831\n",
       "2 1  22.5   0.02778 0.27785 2.46875 21.43548 2.54787 26.35881 0.356 482831\n",
       "3 2  25.0   0.02778 0.27785 2.46875 21.43548 2.54787 26.35881 0.356 482831\n",
       "4 3  25.5   0.02778 0.27785 2.46875 21.43548 2.54787 26.35881 0.356 482831\n",
       "5 4  24.0   0.02778 0.27785 2.46875 21.43548 2.54787 26.35881 0.356 482831\n",
       "6 5  22.0   0.02778 0.27785 2.46875 21.43548 2.54787       NA 0.356 482831\n",
       "  cumf      totaln   sst      sal      xmonth nao\n",
       "1 0.3059879 267380.8 14.30693 35.51234 7      2.8\n",
       "2 0.3059879 267380.8 14.30693 35.51234 7      2.8\n",
       "3 0.3059879 267380.8 14.30693 35.51234 7      2.8\n",
       "4 0.3059879 267380.8 14.30693 35.51234 7      2.8\n",
       "5 0.3059879 267380.8 14.30693 35.51234 7      2.8\n",
       "6 0.3059879 267380.8 14.30693 35.51234 7      2.8"
      ]
     },
     "metadata": {},
     "output_type": "display_data"
    }
   ],
   "source": [
    "head(fish_data, nrow= 5)"
   ]
  },
  {
   "cell_type": "markdown",
   "metadata": {},
   "source": [
    "#### Podstawowe statystyki "
   ]
  },
  {
   "cell_type": "code",
   "execution_count": 246,
   "metadata": {},
   "outputs": [
    {
     "data": {
      "text/html": [
       "'Liczba wierszy razem z wartosciami pustymi 52582'"
      ],
      "text/latex": [
       "'Liczba wierszy razem z wartosciami pustymi 52582'"
      ],
      "text/markdown": [
       "'Liczba wierszy razem z wartosciami pustymi 52582'"
      ],
      "text/plain": [
       "[1] \"Liczba wierszy razem z wartosciami pustymi 52582\""
      ]
     },
     "metadata": {},
     "output_type": "display_data"
    }
   ],
   "source": [
    "sprintf(\"Liczba wierszy razem z wartościami pustymi %d\", nrow(fish_data))"
   ]
  },
  {
   "cell_type": "code",
   "execution_count": 247,
   "metadata": {},
   "outputs": [
    {
     "data": {
      "text/html": [
       "'Liczba wierszy bez pustych wierszy 42488'"
      ],
      "text/latex": [
       "'Liczba wierszy bez pustych wierszy 42488'"
      ],
      "text/markdown": [
       "'Liczba wierszy bez pustych wierszy 42488'"
      ],
      "text/plain": [
       "[1] \"Liczba wierszy bez pustych wierszy 42488\""
      ]
     },
     "metadata": {},
     "output_type": "display_data"
    }
   ],
   "source": [
    "sprintf(\"Liczba wierszy bez pustych wierszy %d\", nrow(na.omit(fish_data)))"
   ]
  },
  {
   "cell_type": "code",
   "execution_count": 248,
   "metadata": {},
   "outputs": [
    {
     "data": {
      "text/html": [
       "'Liczba kolumn 16'"
      ],
      "text/latex": [
       "'Liczba kolumn 16'"
      ],
      "text/markdown": [
       "'Liczba kolumn 16'"
      ],
      "text/plain": [
       "[1] \"Liczba kolumn 16\""
      ]
     },
     "metadata": {},
     "output_type": "display_data"
    }
   ],
   "source": [
    "sprintf(\"Liczba kolumn %d\", ncol(fish_data))"
   ]
  },
  {
   "cell_type": "code",
   "execution_count": 249,
   "metadata": {},
   "outputs": [
    {
     "data": {
      "text/plain": [
       "       X             length         cfin1           cfin2      \n",
       " Min.   :    0   Min.   :19.0   0      :14287   0.70118: 4374  \n",
       " 1st Qu.:13145   1st Qu.:24.0   0.02778: 2225   0      : 3806  \n",
       " Median :26291   Median :25.5   1.02508: 2067   0.296  : 3706  \n",
       " Mean   :26291   Mean   :25.3   1.21333: 1985   0.11736: 2106  \n",
       " 3rd Qu.:39436   3rd Qu.:26.5   0.33333: 1914   4.55825: 2007  \n",
       " Max.   :52581   Max.   :32.5   0.11111: 1891   0.85684: 1665  \n",
       "                                (Other):28213   (Other):34918  \n",
       "      chel1            chel2            lcop1            lcop2      \n",
       " 11.5    : 4787   5.67765 : 4365   23      : 4787   9.17171 : 4370  \n",
       " 2.46875 : 2241   21.67333: 3710   2.54787 : 2215   24.85867: 3709  \n",
       " 12.15192: 2109   39.56809: 2101   12.49588: 2105   41.65566: 2102  \n",
       " 6.42127 : 2062   26.81218: 2002   10.92857: 2059   45.70773: 1998  \n",
       " 19.15475: 2001   15.03   : 1941   21.23147: 1979   17.68   : 1959  \n",
       " 9.66667 : 1926   9.43208 : 1661   27.33333: 1916   10.72889: 1676  \n",
       " (Other) :37456   (Other) :36802   (Other) :37521   (Other) :36768  \n",
       "      fbar             recr              cumf             totaln       \n",
       " Min.   :0.0680   Min.   : 140515   Min.   :0.06833   Min.   : 144137  \n",
       " 1st Qu.:0.2270   1st Qu.: 360061   1st Qu.:0.14809   1st Qu.: 306068  \n",
       " Median :0.3320   Median : 421391   Median :0.23191   Median : 539558  \n",
       " Mean   :0.3304   Mean   : 520367   Mean   :0.22981   Mean   : 514973  \n",
       " 3rd Qu.:0.4560   3rd Qu.: 724151   3rd Qu.:0.29803   3rd Qu.: 730351  \n",
       " Max.   :0.8490   Max.   :1565890   Max.   :0.39801   Max.   :1015595  \n",
       "                                                                       \n",
       "            sst             sal            xmonth           nao          \n",
       " 13.6315997001: 4359   Min.   :35.40   8      : 9920   Min.   :-4.89000  \n",
       " 14.0693330238: 3700   1st Qu.:35.51   10     : 7972   1st Qu.:-1.89000  \n",
       " 14.4415996823: 2080   Median :35.51   7      : 6922   Median : 0.20000  \n",
       " 13.5598663683: 2010   Mean   :35.51   9      : 5714   Mean   :-0.09236  \n",
       " 13.694933032 : 1950   3rd Qu.:35.52   6      : 4218   3rd Qu.: 1.63000  \n",
       " 13.861999695 : 1673   Max.   :35.61   5      : 3736   Max.   : 5.08000  \n",
       " (Other)      :36810                   (Other):14100                     "
      ]
     },
     "metadata": {},
     "output_type": "display_data"
    }
   ],
   "source": [
    "summary(fish_data_clear)"
   ]
  },
  {
   "cell_type": "code",
   "execution_count": 250,
   "metadata": {},
   "outputs": [
    {
     "data": {
      "image/png": "[encoded data removed]",
      "text/plain": [
       "plot without title"
      ]
     },
     "metadata": {},
     "output_type": "display_data"
    }
   ],
   "source": [
    "c_1 <- ggplot(fish_data, aes(length)) + geom_histogram(binwidth = 1) + \n",
    "  theme_light() + ggtitle('Długość złowionego śledzia')\n",
    "c_2 <- ggplot(fish_data, aes(x=lp,y=length)) + geom_point() + theme_light() +\n",
    "ggtitle('Długość złowionego śledzia w czasie')\n",
    "\n",
    "grid.arrange(c_1,c_2, nrow=1)\n"
   ]
  },
  {
   "cell_type": "code",
   "execution_count": 251,
   "metadata": {},
   "outputs": [
    {
     "name": "stderr",
     "output_type": "stream",
     "text": [
      "Warning message:\n",
      "\"Removed 1581 rows containing non-finite values (stat_bin).\"Warning message:\n",
      "\"Removed 1536 rows containing non-finite values (stat_bin).\"Warning message:\n",
      "\"Removed 1555 rows containing non-finite values (stat_bin).\"Warning message:\n",
      "\"Removed 1556 rows containing non-finite values (stat_bin).\"Warning message:\n",
      "\"Removed 1653 rows containing non-finite values (stat_bin).\"Warning message:\n",
      "\"Removed 1591 rows containing non-finite values (stat_bin).\""
     ]
    },
    {
     "data": {
      "image/png": "[encoded data removed]",
      "text/plain": [
       "plot without title"
      ]
     },
     "metadata": {},
     "output_type": "display_data"
    }
   ],
   "source": [
    "p_cfin1 <- ggplot(fish_data, aes(cfin1)) + geom_histogram(bins = 40) + \n",
    "  theme_light() + ggtitle('Calanus finmarchicus gat. 1')\n",
    "p_cfin2 <- ggplot(fish_data, aes(cfin2)) + geom_histogram(bins = 50) + \n",
    "  theme_light() + ggtitle('Calanus finmarchicus gat. 2')\n",
    "p_chel1 <- ggplot(fish_data, aes(chel1)) + geom_histogram(bins = 50) + \n",
    "  theme_light() + ggtitle('Calanus helgolandicus gat. 1')\n",
    "p_chel2 <- ggplot(fish_data, aes(chel2)) + geom_histogram(bins = 50) + \n",
    "  theme_light() + ggtitle('Calanus helgolandicus gat. 2')\n",
    "p_lcop1 <- ggplot(fish_data, aes(lcop1)) + geom_histogram(bins = 40) + \n",
    "  theme_light() + ggtitle('Widłonogi gat. 1')\n",
    "p_lcop2 <- ggplot(fish_data, aes(lcop2)) + geom_histogram(bins = 40) + \n",
    "  theme_light()+ ggtitle('Widłonogi gat. 2')\n",
    "grid.arrange(p_cfin1, p_cfin2,p_chel1,p_chel2,p_lcop1,p_lcop2, nrow=3)\n",
    "#częstotliwość wystepowania zjawiska"
   ]
  },
  {
   "cell_type": "code",
   "execution_count": 252,
   "metadata": {
    "scrolled": false
   },
   "outputs": [
    {
     "name": "stderr",
     "output_type": "stream",
     "text": [
      "`stat_bin()` using `bins = 30`. Pick better value with `binwidth`.\n",
      "`stat_bin()` using `bins = 30`. Pick better value with `binwidth`.\n",
      "Warning message:\n",
      "\"Removed 1584 rows containing non-finite values (stat_bin).\"`stat_bin()` using `bins = 30`. Pick better value with `binwidth`.\n"
     ]
    },
    {
     "data": {
      "image/png": "[encoded data removed]",
      "text/plain": [
       "plot without title"
      ]
     },
     "metadata": {},
     "output_type": "display_data"
    }
   ],
   "source": [
    "p_fbar <- ggplot(fish_data, aes(fbar)) + geom_histogram(binwidth = 0.05) + \n",
    "  theme_light() + ggtitle('Natężenie połowów w regionie')\n",
    "p_cumf <- ggplot(fish_data, aes(cumf)) + geom_histogram(binwidth = 0.02) + \n",
    "  theme_light() + ggtitle('Roczne natężenie połowów\\nw regionie')\n",
    "p_recr <- ggplot(fish_data, aes(recr)) + geom_histogram() + \n",
    "  theme_light() + ggtitle('Roczny narybek')\n",
    "p_totaln <- ggplot(fish_data, aes(totaln)) + geom_histogram(binwidth = 50000) + \n",
    "  theme_light() + ggtitle('Liczba złowionych ryb')\n",
    "p_sst <- ggplot(fish_data, aes(sst)) + geom_histogram() + \n",
    "  theme_light() + ggtitle('Temp. przy powierzchni wody')\n",
    "p_sal <- ggplot(fish_data, aes(sal)) + geom_histogram() + \n",
    "  theme_light() + ggtitle('Poziom zasolenia wody')\n",
    "p_xmonth <- ggplot(fish_data, aes(xmonth)) + geom_bar(stat = 'count') + \n",
    "  theme_light() + ggtitle('Miesiąc połowu')\n",
    "p_nao <- ggplot(fish_data, aes(nao)) + geom_histogram(binwidth = 0.3) + \n",
    "  theme_light() + ggtitle('Oscylacja północnoatlantycka')\n",
    "grid.arrange(p_fbar, p_cumf, p_recr, p_totaln,p_sst,p_sal,p_xmonth,p_nao, nrow=4)\n"
   ]
  },
  {
   "cell_type": "markdown",
   "metadata": {},
   "source": [
    "#### Zastępowanie wartości pustych"
   ]
  },
  {
   "cell_type": "code",
   "execution_count": 253,
   "metadata": {},
   "outputs": [
    {
     "data": {
      "text/html": [
       "<ol class=list-inline>\n",
       "\t<li>'cfin1'</li>\n",
       "\t<li>'cfin2'</li>\n",
       "\t<li>'chel1'</li>\n",
       "\t<li>'chel2'</li>\n",
       "\t<li>'lcop1'</li>\n",
       "\t<li>'lcop2'</li>\n",
       "\t<li>'sst'</li>\n",
       "</ol>\n"
      ],
      "text/latex": [
       "\\begin{enumerate*}\n",
       "\\item 'cfin1'\n",
       "\\item 'cfin2'\n",
       "\\item 'chel1'\n",
       "\\item 'chel2'\n",
       "\\item 'lcop1'\n",
       "\\item 'lcop2'\n",
       "\\item 'sst'\n",
       "\\end{enumerate*}\n"
      ],
      "text/markdown": [
       "1. 'cfin1'\n",
       "2. 'cfin2'\n",
       "3. 'chel1'\n",
       "4. 'chel2'\n",
       "5. 'lcop1'\n",
       "6. 'lcop2'\n",
       "7. 'sst'\n",
       "\n",
       "\n"
      ],
      "text/plain": [
       "[1] \"cfin1\" \"cfin2\" \"chel1\" \"chel2\" \"lcop1\" \"lcop2\" \"sst\"  "
      ]
     },
     "metadata": {},
     "output_type": "display_data"
    }
   ],
   "source": [
    "#kolumny zawierające wartości puste\n",
    "colnames(fish_data)[apply(is.na(fish_data), 2, any)]\n"
   ]
  },
  {
   "cell_type": "code",
   "execution_count": 254,
   "metadata": {},
   "outputs": [
    {
     "name": "stdout",
     "output_type": "stream",
     "text": [
      "[1] \"Length of time series:\"\n",
      "[1] 52582\n",
      "[1] \"-------------------------\"\n",
      "[1] \"Number of Missing Values:\"\n",
      "[1] 1581\n",
      "[1] \"-------------------------\"\n",
      "[1] \"Percentage of Missing Values:\"\n",
      "[1] \"3.01%\"\n",
      "[1] \"-------------------------\"\n",
      "[1] \"Stats for Bins\"\n",
      "[1] \"  Bin 1 (10517 values from 1 to 10517) :      303 NAs (2.88%)\"\n",
      "[1] \"  Bin 2 (10517 values from 10518 to 21034) :      340 NAs (3.23%)\"\n",
      "[1] \"  Bin 3 (10517 values from 21035 to 31551) :      294 NAs (2.8%)\"\n",
      "[1] \"  Bin 4 (10517 values from 31552 to 42068) :      331 NAs (3.15%)\"\n",
      "[1] \"  Bin 5 (10514 values from 42069 to 52582) :      313 NAs (2.98%)\"\n",
      "[1] \"-------------------------\"\n",
      "[1] \"Longest NA gap (series of consecutive NAs)\"\n",
      "[1] \"3 in a row\"\n",
      "[1] \"-------------------------\"\n",
      "[1] \"Most frequent gap size (series of consecutive NA series)\"\n",
      "[1] \"1 NA in a row (occuring 1480 times)\"\n",
      "[1] \"-------------------------\"\n",
      "[1] \"Gap size accounting for most NAs\"\n",
      "[1] \"1 NA in a row (occuring 1480 times, making up for overall 1480 NAs)\"\n",
      "[1] \"-------------------------\"\n",
      "[1] \"Overview NA series\"\n",
      "[1] \"  1 NA in a row: 1480 times\"\n",
      "[1] \"  2 NA in a row: 49 times\"\n",
      "[1] \"  3 NA in a row: 1 times\"\n"
     ]
    }
   ],
   "source": [
    "#cfin1\n",
    "statsNA(fish_data$cfin1, bins = 5)"
   ]
  },
  {
   "cell_type": "code",
   "execution_count": 255,
   "metadata": {},
   "outputs": [
    {
     "name": "stdout",
     "output_type": "stream",
     "text": [
      "[1] \"Length of time series:\"\n",
      "[1] 52582\n",
      "[1] \"-------------------------\"\n",
      "[1] \"Number of Missing Values:\"\n",
      "[1] 1536\n",
      "[1] \"-------------------------\"\n",
      "[1] \"Percentage of Missing Values:\"\n",
      "[1] \"2.92%\"\n",
      "[1] \"-------------------------\"\n",
      "[1] \"Stats for Bins\"\n",
      "[1] \"  Bin 1 (10517 values from 1 to 10517) :      312 NAs (2.97%)\"\n",
      "[1] \"  Bin 2 (10517 values from 10518 to 21034) :      291 NAs (2.77%)\"\n",
      "[1] \"  Bin 3 (10517 values from 21035 to 31551) :      302 NAs (2.87%)\"\n",
      "[1] \"  Bin 4 (10517 values from 31552 to 42068) :      321 NAs (3.05%)\"\n",
      "[1] \"  Bin 5 (10514 values from 42069 to 52582) :      310 NAs (2.95%)\"\n",
      "[1] \"-------------------------\"\n",
      "[1] \"Longest NA gap (series of consecutive NAs)\"\n",
      "[1] \"3 in a row\"\n",
      "[1] \"-------------------------\"\n",
      "[1] \"Most frequent gap size (series of consecutive NA series)\"\n",
      "[1] \"1 NA in a row (occuring 1461 times)\"\n",
      "[1] \"-------------------------\"\n",
      "[1] \"Gap size accounting for most NAs\"\n",
      "[1] \"1 NA in a row (occuring 1461 times, making up for overall 1461 NAs)\"\n",
      "[1] \"-------------------------\"\n",
      "[1] \"Overview NA series\"\n",
      "[1] \"  1 NA in a row: 1461 times\"\n",
      "[1] \"  2 NA in a row: 36 times\"\n",
      "[1] \"  3 NA in a row: 1 times\"\n"
     ]
    }
   ],
   "source": [
    "#cfin2\n",
    "statsNA(fish_data$cfin2, bins = 5)"
   ]
  },
  {
   "cell_type": "code",
   "execution_count": 256,
   "metadata": {},
   "outputs": [
    {
     "name": "stdout",
     "output_type": "stream",
     "text": [
      "[1] \"Length of time series:\"\n",
      "[1] 52582\n",
      "[1] \"-------------------------\"\n",
      "[1] \"Number of Missing Values:\"\n",
      "[1] 1555\n",
      "[1] \"-------------------------\"\n",
      "[1] \"Percentage of Missing Values:\"\n",
      "[1] \"2.96%\"\n",
      "[1] \"-------------------------\"\n",
      "[1] \"Stats for Bins\"\n",
      "[1] \"  Bin 1 (10517 values from 1 to 10517) :      296 NAs (2.81%)\"\n",
      "[1] \"  Bin 2 (10517 values from 10518 to 21034) :      341 NAs (3.24%)\"\n",
      "[1] \"  Bin 3 (10517 values from 21035 to 31551) :      293 NAs (2.79%)\"\n",
      "[1] \"  Bin 4 (10517 values from 31552 to 42068) :      316 NAs (3%)\"\n",
      "[1] \"  Bin 5 (10514 values from 42069 to 52582) :      309 NAs (2.94%)\"\n",
      "[1] \"-------------------------\"\n",
      "[1] \"Longest NA gap (series of consecutive NAs)\"\n",
      "[1] \"3 in a row\"\n",
      "[1] \"-------------------------\"\n",
      "[1] \"Most frequent gap size (series of consecutive NA series)\"\n",
      "[1] \"1 NA in a row (occuring 1471 times)\"\n",
      "[1] \"-------------------------\"\n",
      "[1] \"Gap size accounting for most NAs\"\n",
      "[1] \"1 NA in a row (occuring 1471 times, making up for overall 1471 NAs)\"\n",
      "[1] \"-------------------------\"\n",
      "[1] \"Overview NA series\"\n",
      "[1] \"  1 NA in a row: 1471 times\"\n",
      "[1] \"  2 NA in a row: 39 times\"\n",
      "[1] \"  3 NA in a row: 2 times\"\n"
     ]
    }
   ],
   "source": [
    "#chel1\n",
    "statsNA(fish_data$chel1, bins = 5)"
   ]
  },
  {
   "cell_type": "code",
   "execution_count": 257,
   "metadata": {},
   "outputs": [
    {
     "name": "stdout",
     "output_type": "stream",
     "text": [
      "[1] \"Length of time series:\"\n",
      "[1] 52582\n",
      "[1] \"-------------------------\"\n",
      "[1] \"Number of Missing Values:\"\n",
      "[1] 1653\n",
      "[1] \"-------------------------\"\n",
      "[1] \"Percentage of Missing Values:\"\n",
      "[1] \"3.14%\"\n",
      "[1] \"-------------------------\"\n",
      "[1] \"Stats for Bins\"\n",
      "[1] \"  Bin 1 (10517 values from 1 to 10517) :      366 NAs (3.48%)\"\n",
      "[1] \"  Bin 2 (10517 values from 10518 to 21034) :      292 NAs (2.78%)\"\n",
      "[1] \"  Bin 3 (10517 values from 21035 to 31551) :      337 NAs (3.2%)\"\n",
      "[1] \"  Bin 4 (10517 values from 31552 to 42068) :      312 NAs (2.97%)\"\n",
      "[1] \"  Bin 5 (10514 values from 42069 to 52582) :      346 NAs (3.29%)\"\n",
      "[1] \"-------------------------\"\n",
      "[1] \"Longest NA gap (series of consecutive NAs)\"\n",
      "[1] \"2 in a row\"\n",
      "[1] \"-------------------------\"\n",
      "[1] \"Most frequent gap size (series of consecutive NA series)\"\n",
      "[1] \"1 NA in a row (occuring 1551 times)\"\n",
      "[1] \"-------------------------\"\n",
      "[1] \"Gap size accounting for most NAs\"\n",
      "[1] \"1 NA in a row (occuring 1551 times, making up for overall 1551 NAs)\"\n",
      "[1] \"-------------------------\"\n",
      "[1] \"Overview NA series\"\n",
      "[1] \"  1 NA in a row: 1551 times\"\n",
      "[1] \"  2 NA in a row: 51 times\"\n"
     ]
    }
   ],
   "source": [
    "#lcop1\n",
    "statsNA(fish_data$lcop1, bins = 5)"
   ]
  },
  {
   "cell_type": "code",
   "execution_count": 258,
   "metadata": {},
   "outputs": [
    {
     "name": "stdout",
     "output_type": "stream",
     "text": [
      "[1] \"Length of time series:\"\n",
      "[1] 52582\n",
      "[1] \"-------------------------\"\n",
      "[1] \"Number of Missing Values:\"\n",
      "[1] 1591\n",
      "[1] \"-------------------------\"\n",
      "[1] \"Percentage of Missing Values:\"\n",
      "[1] \"3.03%\"\n",
      "[1] \"-------------------------\"\n",
      "[1] \"Stats for Bins\"\n",
      "[1] \"  Bin 1 (10517 values from 1 to 10517) :      319 NAs (3.03%)\"\n",
      "[1] \"  Bin 2 (10517 values from 10518 to 21034) :      343 NAs (3.26%)\"\n",
      "[1] \"  Bin 3 (10517 values from 21035 to 31551) :      298 NAs (2.83%)\"\n",
      "[1] \"  Bin 4 (10517 values from 31552 to 42068) :      302 NAs (2.87%)\"\n",
      "[1] \"  Bin 5 (10514 values from 42069 to 52582) :      329 NAs (3.13%)\"\n",
      "[1] \"-------------------------\"\n",
      "[1] \"Longest NA gap (series of consecutive NAs)\"\n",
      "[1] \"3 in a row\"\n",
      "[1] \"-------------------------\"\n",
      "[1] \"Most frequent gap size (series of consecutive NA series)\"\n",
      "[1] \"1 NA in a row (occuring 1503 times)\"\n",
      "[1] \"-------------------------\"\n",
      "[1] \"Gap size accounting for most NAs\"\n",
      "[1] \"1 NA in a row (occuring 1503 times, making up for overall 1503 NAs)\"\n",
      "[1] \"-------------------------\"\n",
      "[1] \"Overview NA series\"\n",
      "[1] \"  1 NA in a row: 1503 times\"\n",
      "[1] \"  2 NA in a row: 41 times\"\n",
      "[1] \"  3 NA in a row: 2 times\"\n"
     ]
    }
   ],
   "source": [
    "#lcop2\n",
    "statsNA(fish_data$lcop2, bins = 5)"
   ]
  },
  {
   "cell_type": "code",
   "execution_count": 259,
   "metadata": {},
   "outputs": [
    {
     "name": "stdout",
     "output_type": "stream",
     "text": [
      "[1] \"Length of time series:\"\n",
      "[1] 52582\n",
      "[1] \"-------------------------\"\n",
      "[1] \"Number of Missing Values:\"\n",
      "[1] 1584\n",
      "[1] \"-------------------------\"\n",
      "[1] \"Percentage of Missing Values:\"\n",
      "[1] \"3.01%\"\n",
      "[1] \"-------------------------\"\n",
      "[1] \"Stats for Bins\"\n",
      "[1] \"  Bin 1 (10517 values from 1 to 10517) :      321 NAs (3.05%)\"\n",
      "[1] \"  Bin 2 (10517 values from 10518 to 21034) :      313 NAs (2.98%)\"\n",
      "[1] \"  Bin 3 (10517 values from 21035 to 31551) :      298 NAs (2.83%)\"\n",
      "[1] \"  Bin 4 (10517 values from 31552 to 42068) :      310 NAs (2.95%)\"\n",
      "[1] \"  Bin 5 (10514 values from 42069 to 52582) :      342 NAs (3.25%)\"\n",
      "[1] \"-------------------------\"\n",
      "[1] \"Longest NA gap (series of consecutive NAs)\"\n",
      "[1] \"3 in a row\"\n",
      "[1] \"-------------------------\"\n",
      "[1] \"Most frequent gap size (series of consecutive NA series)\"\n",
      "[1] \"1 NA in a row (occuring 1501 times)\"\n",
      "[1] \"-------------------------\"\n",
      "[1] \"Gap size accounting for most NAs\"\n",
      "[1] \"1 NA in a row (occuring 1501 times, making up for overall 1501 NAs)\"\n",
      "[1] \"-------------------------\"\n",
      "[1] \"Overview NA series\"\n",
      "[1] \"  1 NA in a row: 1501 times\"\n",
      "[1] \"  2 NA in a row: 40 times\"\n",
      "[1] \"  3 NA in a row: 1 times\"\n"
     ]
    }
   ],
   "source": [
    "#sst\n",
    "statsNA(fish_data$sst, bins = 5)"
   ]
  },
  {
   "cell_type": "markdown",
   "metadata": {},
   "source": [
    "Dla powyższych pozycji wartośći NA przyjmują maksymalnie 3.14%. Stosowne jest zastowanie podmienienie zmiennych za pomocą filtru Kalmana."
   ]
  },
  {
   "cell_type": "code",
   "execution_count": 260,
   "metadata": {},
   "outputs": [],
   "source": [
    "fish_data$cfin1 <- na.kalman(fish_data$cfin1)\n",
    "fish_data$cfin2 <- na.kalman(fish_data$cfin2)\n",
    "fish_data$chel1 <- na.kalman(fish_data$chel1)\n",
    "fish_data$chel2 <- na.kalman(fish_data$chel2)\n",
    "fish_data$lcop1 <- na.kalman(fish_data$lcop1)\n",
    "fish_data$lcop2 <- na.kalman(fish_data$lcop2)\n",
    "fish_data$sst   <- na.kalman(fish_data$sst)\n"
   ]
  },
  {
   "cell_type": "code",
   "execution_count": 261,
   "metadata": {},
   "outputs": [
    {
     "ename": "ERROR",
     "evalue": "Error in mice(fish_data, m = 5, maxit = 50, meth = \"pmm\", seed = 500): No missing values found\n",
     "output_type": "error",
     "traceback": [
      "Error in mice(fish_data, m = 5, maxit = 50, meth = \"pmm\", seed = 500): No missing values found\nTraceback:\n",
      "1. mice(fish_data, m = 5, maxit = 50, meth = \"pmm\", seed = 500)",
      "2. stop(\"No missing values found\")"
     ]
    }
   ],
   "source": [
    "tempData <- mice(fish_data,m=5,maxit=50,meth='pmm',seed=500)\n",
    "summary(tempData)\n"
   ]
  }
 ],
 "metadata": {
  "kernelspec": {
   "display_name": "R",
   "language": "R",
   "name": "ir"
  },
  "language_info": {
   "codemirror_mode": "r",
   "file_extension": ".r",
   "mimetype": "text/x-r-source",
   "name": "R",
   "pygments_lexer": "r",
   "version": "3.4.3"
  }
 },
 "nbformat": 4,
 "nbformat_minor": 2
}
