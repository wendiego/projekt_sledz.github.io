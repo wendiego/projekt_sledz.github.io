{
 "cells": [
  {
   "cell_type": "code",
   "execution_count": 49,
   "metadata": {},
   "outputs": [
    {
     "name": "stderr",
     "output_type": "stream",
     "text": [
      "Installing package into 'C:/Users/artur.mielniczek/Documents/R/win-library/3.4'\n",
      "(as 'lib' is unspecified)\n"
     ]
    },
    {
     "name": "stdout",
     "output_type": "stream",
     "text": [
      "package 'gdata' successfully unpacked and MD5 sums checked\n",
      "\n",
      "The downloaded binary packages are in\n",
      "\tC:\\Users\\artur.mielniczek\\AppData\\Local\\Temp\\RtmpoVIuUU\\downloaded_packages\n"
     ]
    },
    {
     "name": "stderr",
     "output_type": "stream",
     "text": [
      "Installing package into 'C:/Users/artur.mielniczek/Documents/R/win-library/3.4'\n",
      "(as 'lib' is unspecified)\n"
     ]
    },
    {
     "name": "stdout",
     "output_type": "stream",
     "text": [
      "package 'dplyr' successfully unpacked and MD5 sums checked\n"
     ]
    },
    {
     "name": "stderr",
     "output_type": "stream",
     "text": [
      "Warning message:\n",
      "\"cannot remove prior installation of package 'dplyr'\""
     ]
    },
    {
     "name": "stdout",
     "output_type": "stream",
     "text": [
      "\n",
      "The downloaded binary packages are in\n",
      "\tC:\\Users\\artur.mielniczek\\AppData\\Local\\Temp\\RtmpoVIuUU\\downloaded_packages\n"
     ]
    }
   ],
   "source": [
    "install.packages(\"gdata\")\n",
    "install.packages(\"dplyr\")"
   ]
  },
  {
   "cell_type": "code",
   "execution_count": 50,
   "metadata": {},
   "outputs": [
    {
     "data": {
      "text/html": [
       "'C:/Users/artur.mielniczek'"
      ],
      "text/latex": [
       "'C:/Users/artur.mielniczek'"
      ],
      "text/markdown": [
       "'C:/Users/artur.mielniczek'"
      ],
      "text/plain": [
       "[1] \"C:/Users/artur.mielniczek\""
      ]
     },
     "metadata": {},
     "output_type": "display_data"
    }
   ],
   "source": [
    "getwd()"
   ]
  },
  {
   "cell_type": "code",
   "execution_count": 51,
   "metadata": {},
   "outputs": [],
   "source": [
    "fish_data <-  read.csv(url(\"http://www.cs.put.poznan.pl/dbrzezinski/teaching/sphd/sledzie.csv\"))\n",
    "# przypisanie danych do zmiennej"
   ]
  },
  {
   "cell_type": "code",
   "execution_count": 52,
   "metadata": {},
   "outputs": [
    {
     "data": {
      "text/html": [
       "'data.frame'"
      ],
      "text/latex": [
       "'data.frame'"
      ],
      "text/markdown": [
       "'data.frame'"
      ],
      "text/plain": [
       "[1] \"data.frame\""
      ]
     },
     "metadata": {},
     "output_type": "display_data"
    }
   ],
   "source": [
    "class(fish_data)"
   ]
  },
  {
   "cell_type": "code",
   "execution_count": 53,
   "metadata": {},
   "outputs": [
    {
     "data": {
      "text/html": [
       "<ol class=list-inline>\n",
       "\t<li>'X'</li>\n",
       "\t<li>'length'</li>\n",
       "\t<li>'cfin1'</li>\n",
       "\t<li>'cfin2'</li>\n",
       "\t<li>'chel1'</li>\n",
       "\t<li>'chel2'</li>\n",
       "\t<li>'lcop1'</li>\n",
       "\t<li>'lcop2'</li>\n",
       "\t<li>'fbar'</li>\n",
       "\t<li>'recr'</li>\n",
       "\t<li>'cumf'</li>\n",
       "\t<li>'totaln'</li>\n",
       "\t<li>'sst'</li>\n",
       "\t<li>'sal'</li>\n",
       "\t<li>'xmonth'</li>\n",
       "\t<li>'nao'</li>\n",
       "</ol>\n"
      ],
      "text/latex": [
       "\\begin{enumerate*}\n",
       "\\item 'X'\n",
       "\\item 'length'\n",
       "\\item 'cfin1'\n",
       "\\item 'cfin2'\n",
       "\\item 'chel1'\n",
       "\\item 'chel2'\n",
       "\\item 'lcop1'\n",
       "\\item 'lcop2'\n",
       "\\item 'fbar'\n",
       "\\item 'recr'\n",
       "\\item 'cumf'\n",
       "\\item 'totaln'\n",
       "\\item 'sst'\n",
       "\\item 'sal'\n",
       "\\item 'xmonth'\n",
       "\\item 'nao'\n",
       "\\end{enumerate*}\n"
      ],
      "text/markdown": [
       "1. 'X'\n",
       "2. 'length'\n",
       "3. 'cfin1'\n",
       "4. 'cfin2'\n",
       "5. 'chel1'\n",
       "6. 'chel2'\n",
       "7. 'lcop1'\n",
       "8. 'lcop2'\n",
       "9. 'fbar'\n",
       "10. 'recr'\n",
       "11. 'cumf'\n",
       "12. 'totaln'\n",
       "13. 'sst'\n",
       "14. 'sal'\n",
       "15. 'xmonth'\n",
       "16. 'nao'\n",
       "\n",
       "\n"
      ],
      "text/plain": [
       " [1] \"X\"      \"length\" \"cfin1\"  \"cfin2\"  \"chel1\"  \"chel2\"  \"lcop1\"  \"lcop2\" \n",
       " [9] \"fbar\"   \"recr\"   \"cumf\"   \"totaln\" \"sst\"    \"sal\"    \"xmonth\" \"nao\"   "
      ]
     },
     "metadata": {},
     "output_type": "display_data"
    }
   ],
   "source": [
    "names(fish_data)"
   ]
  },
  {
   "cell_type": "code",
   "execution_count": 54,
   "metadata": {},
   "outputs": [
    {
     "name": "stdout",
     "output_type": "stream",
     "text": [
      "'data.frame':\t52582 obs. of  16 variables:\n",
      " $ X     : int  0 1 2 3 4 5 6 7 8 9 ...\n",
      " $ length: num  23 22.5 25 25.5 24 22 24 23.5 22.5 22.5 ...\n",
      " $ cfin1 : Factor w/ 40 levels \"?\",\"0\",\"0.01\",..: 5 5 5 5 5 5 5 5 5 5 ...\n",
      " $ cfin2 : Factor w/ 49 levels \"?\",\"0\",\"0.01\",..: 14 14 14 14 14 14 14 14 14 14 ...\n",
      " $ chel1 : Factor w/ 49 levels \"?\",\"0\",\"0.2287\",..: 20 20 20 20 20 20 20 20 20 20 ...\n",
      " $ chel2 : Factor w/ 52 levels \"?\",\"10.10963\",..: 1 23 23 23 23 23 23 23 23 23 ...\n",
      " $ lcop1 : Factor w/ 49 levels \"?\",\"0.30741\",..: 20 20 20 20 20 20 20 20 20 20 ...\n",
      " $ lcop2 : Factor w/ 52 levels \"?\",\"10.72889\",..: 23 23 23 23 23 1 23 23 23 23 ...\n",
      " $ fbar  : num  0.356 0.356 0.356 0.356 0.356 0.356 0.356 0.356 0.356 0.356 ...\n",
      " $ recr  : int  482831 482831 482831 482831 482831 482831 482831 482831 482831 482831 ...\n",
      " $ cumf  : num  0.306 0.306 0.306 0.306 0.306 ...\n",
      " $ totaln: num  267381 267381 267381 267381 267381 ...\n",
      " $ sst   : Factor w/ 52 levels \"?\",\"12.7690663857\",..: 38 38 38 38 38 38 38 38 38 38 ...\n",
      " $ sal   : num  35.5 35.5 35.5 35.5 35.5 ...\n",
      " $ xmonth: int  7 7 7 7 7 7 7 7 7 7 ...\n",
      " $ nao   : num  2.8 2.8 2.8 2.8 2.8 2.8 2.8 2.8 2.8 2.8 ...\n"
     ]
    }
   ],
   "source": [
    "str(fish_data,5)"
   ]
  },
  {
   "cell_type": "code",
   "execution_count": 55,
   "metadata": {},
   "outputs": [
    {
     "data": {
      "text/html": [
       "<table>\n",
       "<thead><tr><th scope=col>X</th><th scope=col>length</th><th scope=col>cfin1</th><th scope=col>cfin2</th><th scope=col>chel1</th><th scope=col>chel2</th><th scope=col>lcop1</th><th scope=col>lcop2</th><th scope=col>fbar</th><th scope=col>recr</th><th scope=col>cumf</th><th scope=col>totaln</th><th scope=col>sst</th><th scope=col>sal</th><th scope=col>xmonth</th><th scope=col>nao</th></tr></thead>\n",
       "<tbody>\n",
       "\t<tr><td>0            </td><td>23.0         </td><td>0.02778      </td><td>0.27785      </td><td>2.46875      </td><td>?            </td><td>2.54787      </td><td>26.35881     </td><td>0.356        </td><td>482831       </td><td>0.3059879    </td><td>267380.8     </td><td>14.3069330186</td><td>35.51234     </td><td>7            </td><td>2.8          </td></tr>\n",
       "\t<tr><td>1            </td><td>22.5         </td><td>0.02778      </td><td>0.27785      </td><td>2.46875      </td><td>21.43548     </td><td>2.54787      </td><td>26.35881     </td><td>0.356        </td><td>482831       </td><td>0.3059879    </td><td>267380.8     </td><td>14.3069330186</td><td>35.51234     </td><td>7            </td><td>2.8          </td></tr>\n",
       "\t<tr><td>2            </td><td>25.0         </td><td>0.02778      </td><td>0.27785      </td><td>2.46875      </td><td>21.43548     </td><td>2.54787      </td><td>26.35881     </td><td>0.356        </td><td>482831       </td><td>0.3059879    </td><td>267380.8     </td><td>14.3069330186</td><td>35.51234     </td><td>7            </td><td>2.8          </td></tr>\n",
       "\t<tr><td>3            </td><td>25.5         </td><td>0.02778      </td><td>0.27785      </td><td>2.46875      </td><td>21.43548     </td><td>2.54787      </td><td>26.35881     </td><td>0.356        </td><td>482831       </td><td>0.3059879    </td><td>267380.8     </td><td>14.3069330186</td><td>35.51234     </td><td>7            </td><td>2.8          </td></tr>\n",
       "\t<tr><td>4            </td><td>24.0         </td><td>0.02778      </td><td>0.27785      </td><td>2.46875      </td><td>21.43548     </td><td>2.54787      </td><td>26.35881     </td><td>0.356        </td><td>482831       </td><td>0.3059879    </td><td>267380.8     </td><td>14.3069330186</td><td>35.51234     </td><td>7            </td><td>2.8          </td></tr>\n",
       "</tbody>\n",
       "</table>\n"
      ],
      "text/latex": [
       "\\begin{tabular}{r|llllllllllllllll}\n",
       " X & length & cfin1 & cfin2 & chel1 & chel2 & lcop1 & lcop2 & fbar & recr & cumf & totaln & sst & sal & xmonth & nao\\\\\n",
       "\\hline\n",
       "\t 0             & 23.0          & 0.02778       & 0.27785       & 2.46875       & ?             & 2.54787       & 26.35881      & 0.356         & 482831        & 0.3059879     & 267380.8      & 14.3069330186 & 35.51234      & 7             & 2.8          \\\\\n",
       "\t 1             & 22.5          & 0.02778       & 0.27785       & 2.46875       & 21.43548      & 2.54787       & 26.35881      & 0.356         & 482831        & 0.3059879     & 267380.8      & 14.3069330186 & 35.51234      & 7             & 2.8          \\\\\n",
       "\t 2             & 25.0          & 0.02778       & 0.27785       & 2.46875       & 21.43548      & 2.54787       & 26.35881      & 0.356         & 482831        & 0.3059879     & 267380.8      & 14.3069330186 & 35.51234      & 7             & 2.8          \\\\\n",
       "\t 3             & 25.5          & 0.02778       & 0.27785       & 2.46875       & 21.43548      & 2.54787       & 26.35881      & 0.356         & 482831        & 0.3059879     & 267380.8      & 14.3069330186 & 35.51234      & 7             & 2.8          \\\\\n",
       "\t 4             & 24.0          & 0.02778       & 0.27785       & 2.46875       & 21.43548      & 2.54787       & 26.35881      & 0.356         & 482831        & 0.3059879     & 267380.8      & 14.3069330186 & 35.51234      & 7             & 2.8          \\\\\n",
       "\\end{tabular}\n"
      ],
      "text/markdown": [
       "\n",
       "X | length | cfin1 | cfin2 | chel1 | chel2 | lcop1 | lcop2 | fbar | recr | cumf | totaln | sst | sal | xmonth | nao | \n",
       "|---|---|---|---|---|\n",
       "| 0             | 23.0          | 0.02778       | 0.27785       | 2.46875       | ?             | 2.54787       | 26.35881      | 0.356         | 482831        | 0.3059879     | 267380.8      | 14.3069330186 | 35.51234      | 7             | 2.8           | \n",
       "| 1             | 22.5          | 0.02778       | 0.27785       | 2.46875       | 21.43548      | 2.54787       | 26.35881      | 0.356         | 482831        | 0.3059879     | 267380.8      | 14.3069330186 | 35.51234      | 7             | 2.8           | \n",
       "| 2             | 25.0          | 0.02778       | 0.27785       | 2.46875       | 21.43548      | 2.54787       | 26.35881      | 0.356         | 482831        | 0.3059879     | 267380.8      | 14.3069330186 | 35.51234      | 7             | 2.8           | \n",
       "| 3             | 25.5          | 0.02778       | 0.27785       | 2.46875       | 21.43548      | 2.54787       | 26.35881      | 0.356         | 482831        | 0.3059879     | 267380.8      | 14.3069330186 | 35.51234      | 7             | 2.8           | \n",
       "| 4             | 24.0          | 0.02778       | 0.27785       | 2.46875       | 21.43548      | 2.54787       | 26.35881      | 0.356         | 482831        | 0.3059879     | 267380.8      | 14.3069330186 | 35.51234      | 7             | 2.8           | \n",
       "\n",
       "\n"
      ],
      "text/plain": [
       "  X length cfin1   cfin2   chel1   chel2    lcop1   lcop2    fbar  recr  \n",
       "1 0 23.0   0.02778 0.27785 2.46875 ?        2.54787 26.35881 0.356 482831\n",
       "2 1 22.5   0.02778 0.27785 2.46875 21.43548 2.54787 26.35881 0.356 482831\n",
       "3 2 25.0   0.02778 0.27785 2.46875 21.43548 2.54787 26.35881 0.356 482831\n",
       "4 3 25.5   0.02778 0.27785 2.46875 21.43548 2.54787 26.35881 0.356 482831\n",
       "5 4 24.0   0.02778 0.27785 2.46875 21.43548 2.54787 26.35881 0.356 482831\n",
       "  cumf      totaln   sst           sal      xmonth nao\n",
       "1 0.3059879 267380.8 14.3069330186 35.51234 7      2.8\n",
       "2 0.3059879 267380.8 14.3069330186 35.51234 7      2.8\n",
       "3 0.3059879 267380.8 14.3069330186 35.51234 7      2.8\n",
       "4 0.3059879 267380.8 14.3069330186 35.51234 7      2.8\n",
       "5 0.3059879 267380.8 14.3069330186 35.51234 7      2.8"
      ]
     },
     "metadata": {},
     "output_type": "display_data"
    }
   ],
   "source": [
    "head(fish_data, n=5)"
   ]
  },
  {
   "cell_type": "code",
   "execution_count": 56,
   "metadata": {},
   "outputs": [
    {
     "data": {
      "text/html": [
       "<ol class=list-inline>\n",
       "\t<li>52582</li>\n",
       "\t<li>16</li>\n",
       "</ol>\n"
      ],
      "text/latex": [
       "\\begin{enumerate*}\n",
       "\\item 52582\n",
       "\\item 16\n",
       "\\end{enumerate*}\n"
      ],
      "text/markdown": [
       "1. 52582\n",
       "2. 16\n",
       "\n",
       "\n"
      ],
      "text/plain": [
       "[1] 52582    16"
      ]
     },
     "metadata": {},
     "output_type": "display_data"
    }
   ],
   "source": [
    "dim(fish_data)\n",
    "# liczba wierszy i liczba kolumn"
   ]
  },
  {
   "cell_type": "code",
   "execution_count": 57,
   "metadata": {},
   "outputs": [
    {
     "data": {
      "text/plain": [
       "4652384 bytes"
      ]
     },
     "metadata": {},
     "output_type": "display_data"
    }
   ],
   "source": [
    "object.size(fish_data)"
   ]
  },
  {
   "cell_type": "code",
   "execution_count": 58,
   "metadata": {},
   "outputs": [
    {
     "data": {
      "text/plain": [
       "       X             length         cfin1           cfin2      \n",
       " Min.   :    0   Min.   :19.0   0      :14287   0.70118: 4374  \n",
       " 1st Qu.:13145   1st Qu.:24.0   0.02778: 2225   0      : 3806  \n",
       " Median :26291   Median :25.5   1.02508: 2067   0.296  : 3706  \n",
       " Mean   :26291   Mean   :25.3   1.21333: 1985   0.11736: 2106  \n",
       " 3rd Qu.:39436   3rd Qu.:26.5   0.33333: 1914   4.55825: 2007  \n",
       " Max.   :52581   Max.   :32.5   0.11111: 1891   0.85684: 1665  \n",
       "                                (Other):28213   (Other):34918  \n",
       "      chel1            chel2            lcop1            lcop2      \n",
       " 11.5    : 4787   5.67765 : 4365   23      : 4787   9.17171 : 4370  \n",
       " 2.46875 : 2241   21.67333: 3710   2.54787 : 2215   24.85867: 3709  \n",
       " 12.15192: 2109   39.56809: 2101   12.49588: 2105   41.65566: 2102  \n",
       " 6.42127 : 2062   26.81218: 2002   10.92857: 2059   45.70773: 1998  \n",
       " 19.15475: 2001   15.03   : 1941   21.23147: 1979   17.68   : 1959  \n",
       " 9.66667 : 1926   9.43208 : 1661   27.33333: 1916   10.72889: 1676  \n",
       " (Other) :37456   (Other) :36802   (Other) :37521   (Other) :36768  \n",
       "      fbar             recr              cumf             totaln       \n",
       " Min.   :0.0680   Min.   : 140515   Min.   :0.06833   Min.   : 144137  \n",
       " 1st Qu.:0.2270   1st Qu.: 360061   1st Qu.:0.14809   1st Qu.: 306068  \n",
       " Median :0.3320   Median : 421391   Median :0.23191   Median : 539558  \n",
       " Mean   :0.3304   Mean   : 520367   Mean   :0.22981   Mean   : 514973  \n",
       " 3rd Qu.:0.4560   3rd Qu.: 724151   3rd Qu.:0.29803   3rd Qu.: 730351  \n",
       " Max.   :0.8490   Max.   :1565890   Max.   :0.39801   Max.   :1015595  \n",
       "                                                                       \n",
       "            sst             sal            xmonth            nao          \n",
       " 13.6315997001: 4359   Min.   :35.40   Min.   : 1.000   Min.   :-4.89000  \n",
       " 14.0693330238: 3700   1st Qu.:35.51   1st Qu.: 5.000   1st Qu.:-1.89000  \n",
       " 14.4415996823: 2080   Median :35.51   Median : 8.000   Median : 0.20000  \n",
       " 13.5598663683: 2010   Mean   :35.51   Mean   : 7.258   Mean   :-0.09236  \n",
       " 13.694933032 : 1950   3rd Qu.:35.52   3rd Qu.: 9.000   3rd Qu.: 1.63000  \n",
       " 13.861999695 : 1673   Max.   :35.61   Max.   :12.000   Max.   : 5.08000  \n",
       " (Other)      :36810                                                      "
      ]
     },
     "metadata": {},
     "output_type": "display_data"
    }
   ],
   "source": [
    "summary(fish_data)"
   ]
  },
  {
   "cell_type": "code",
   "execution_count": 59,
   "metadata": {},
   "outputs": [
    {
     "name": "stderr",
     "output_type": "stream",
     "text": [
      "\n",
      "Attaching package: 'dplyr'\n",
      "\n",
      "The following objects are masked from 'package:stats':\n",
      "\n",
      "    filter, lag\n",
      "\n",
      "The following objects are masked from 'package:base':\n",
      "\n",
      "    intersect, setdiff, setequal, union\n",
      "\n"
     ]
    }
   ],
   "source": [
    "library(dplyr)"
   ]
  },
  {
   "cell_type": "code",
   "execution_count": 60,
   "metadata": {},
   "outputs": [],
   "source": [
    "#wykorzystajmy dplyr table data frejma\n",
    "tbl_fish_data <- tbl_df(fish_data)"
   ]
  },
  {
   "cell_type": "code",
   "execution_count": null,
   "metadata": {},
   "outputs": [],
   "source": []
  }
 ],
 "metadata": {
  "kernelspec": {
   "display_name": "R",
   "language": "R",
   "name": "ir"
  },
  "language_info": {
   "codemirror_mode": "r",
   "file_extension": ".r",
   "mimetype": "text/x-r-source",
   "name": "R",
   "pygments_lexer": "r",
   "version": "3.4.3"
  }
 },
 "nbformat": 4,
 "nbformat_minor": 2
}
